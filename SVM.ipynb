{
 "cells": [
  {
   "cell_type": "code",
   "execution_count": 1,
   "id": "b6c90dac-3c59-406c-9c2b-795d16173c04",
   "metadata": {},
   "outputs": [],
   "source": [
    "import pandas as pd\n",
    "import numpy as np\n",
    "import seaborn as sns ; sns.set()\n",
    "from matplotlib import pyplot as plt"
   ]
  },
  {
   "cell_type": "code",
   "execution_count": 2,
   "id": "832fad71-0e92-4c4d-b1c6-1c66cacae4f6",
   "metadata": {},
   "outputs": [],
   "source": [
    "from sklearn.svm import SVC"
   ]
  },
  {
   "cell_type": "code",
   "execution_count": 3,
   "id": "f0c6ed7e-7a81-4e88-ab3f-ec7ebcc8411d",
   "metadata": {},
   "outputs": [],
   "source": [
    "import os\n",
    "for dirname, _, filenames in os.walk('/kaggle/input'):\n",
    "    for filename in filenames:\n",
    "        print(os.path.join(dirname, filename))"
   ]
  },
  {
   "cell_type": "markdown",
   "id": "9e0d410b-55f1-4df1-b238-2967b8b591de",
   "metadata": {},
   "source": [
    "## SVM (Support Vector Machine)¶\n",
    "SVM works by mapping data to a high-dimensional feature space so that data points can be categorized, even when the data are not otherwise linearly separable. A separator between the categories is found, then the data is transformed in such a way that the separator could be drawn as a hyperplane. Following this, characteristics of new data can be used to predict the group to which a new record should belong.\n",
    "\n",
    "Goal of SVM\n",
    "The goal of the SVM algorithm is to create the best line or decision boundary that can segregate n-dimensional space into classes so that we can easily put the new data point in the correct category in the future. This best decision boundary is called a hyperplane.\n",
    "\n",
    "SVM chooses the extreme points/vectors that help in creating the hyperplane. These extreme cases are called as support vectors, and hence algorithm is termed as Support Vector Machine. Consider the below diagram in which there are two different categories that are classified using a decision boundary or hyperplane."
   ]
  },
  {
   "cell_type": "code",
   "execution_count": 25,
   "id": "dd6ab850-e5f7-4ee7-b53b-20a8098aea54",
   "metadata": {},
   "outputs": [
    {
     "data": {
      "image/png": "[encoded data removed]",
      "text/plain": [
       "<IPython.core.display.Image object>"
      ]
     },
     "execution_count": 25,
     "metadata": {},
     "output_type": "execute_result"
    }
   ],
   "source": [
    "from IPython.display import Image\n",
    "Image(\"https://www.kaggleusercontent.com/kf/96203833/eyJhbGciOiJkaXIiLCJlbmMiOiJBMTI4Q0JDLUhTMjU2In0..RmldN7lhOelgS7VWA_sgng.D6iV0lmb3DY3OtKSGS7KN03VdZZM_6BNfMH4gIi2JoYCQ9FN4wwKZR1MqWVNtdCIQX3tPbJWnJe2wE0IRCkueCL9pIyIiTBfPGVhWsRKGSDgngi167MaFh56WWuHDQa2G38NKcUOoj-VOrSUEQK6zRnktKoDCNiu2odeXQ2D2NE2ULAKTBZ3sk76Q1zaA0tOBn-zCI4gzJAAlDg0FoqwVC60u3pIQoGWA9ESboBjRO29YZRvB24a7wHGMAEFZGW4aLDtiP4HsEJAtJduXLM2D4_NpucC4AVWkiHzltZtvFMhEOMniGdWaL-az_KKLolX6BgVc6HcdeiadZNtClvXWIuTnKHdjQ_IQaPj2T3cIpxOFic15zAEtcumHooJr0-TonfMGUzEXR_JVrbs1RNaD_jfHJTZR5reOeT_j_MISPXnz8BlaJWQVUlt8xlK1yPGPRFPhSnR21AHAm1fOIgtFYOH9KkTkmLcow3MT4bPuesN3hzhMwbsp-wdApfdTDXEQFTroqyVLrVdX2gTldhJ5urPthCjbEKZaAIh029aQPkdh2keC_PYYNmyHuvQtTC7py8SRRCfxcMA_vcFzIwz1tLEGK_wOHx-EKEU7F9PnrYA9N5SX6iXunrxdgC3PIwum4YfonE7Z-neC_RX5G_4ELsRkctofwsc9FRF0qUesXs.VZ2x45bPlLEccE8C-lda6A/__results___files/__results___3_0.png\")"
   ]
  },
  {
   "cell_type": "code",
   "execution_count": 13,
   "id": "ee0106da-3a3d-4395-b674-8e596449156c",
   "metadata": {},
   "outputs": [
    {
     "name": "stderr",
     "output_type": "stream",
     "text": [
      "C:\\aayan\\anaconda3\\Lib\\site-packages\\openpyxl\\worksheet\\_read_only.py:81: UserWarning: Conditional Formatting extension is not supported and will be removed\n",
      "  for idx, row in parser.parse():\n"
     ]
    }
   ],
   "source": [
    "df = pd.read_excel(r\"main.xlsx\")"
   ]
  },
  {
   "cell_type": "code",
   "execution_count": 49,
   "id": "03e87a33-63b2-4221-8249-536158b3040a",
   "metadata": {},
   "outputs": [],
   "source": [
    "def upp(text):\n",
    "    return text.upper()"
   ]
  },
  {
   "cell_type": "code",
   "execution_count": 57,
   "id": "e1e878f7-b3e0-41be-83fa-89ee073e9b68",
   "metadata": {},
   "outputs": [],
   "source": [
    "df[\"CBCT Center Name\"] = df[\"CBCT Center Name\"].apply(upp)"
   ]
  },
  {
   "cell_type": "code",
   "execution_count": 63,
   "id": "bc25dcb1-bc51-4b4f-8a17-e377986d041e",
   "metadata": {},
   "outputs": [
    {
     "data": {
      "text/plain": [
       "array(['ANNANAGAR', 'BANASHANKARI', 'ADYAR', 'MALVIYANAGAR', 'ROHINI',\n",
       "       'DWARKA', 'FARIDABAD', 'GAURCITY', 'GHAZIABAD', 'GURGAON',\n",
       "       'HASSAN', 'HSR', 'MADURAI', 'ANDHERI', 'KALYAN', 'NASHIK', 'NOIDA',\n",
       "       'RAGHUVANSHI', 'SANJAYNAGAR', 'TAMBARAM ', 'VIJAYAPURA',\n",
       "       'BANASHANKARI(MENTS)', 'GHATKOPAR', 'PATPARGANJ'], dtype=object)"
      ]
     },
     "execution_count": 63,
     "metadata": {},
     "output_type": "execute_result"
    }
   ],
   "source": [
    "df[\"CBCT Center Name\"].unique()"
   ]
  },
  {
   "cell_type": "code",
   "execution_count": null,
   "id": "ed188291-a7e4-4e8f-813d-4586989d2749",
   "metadata": {},
   "outputs": [],
   "source": []
  },
  {
   "cell_type": "code",
   "execution_count": 65,
   "id": "f46b13c3-2a48-470d-afff-205400d1e3be",
   "metadata": {},
   "outputs": [],
   "source": [
    "centers = df[\"CBCT Center Name\"].unique()"
   ]
  },
  {
   "cell_type": "code",
   "execution_count": 67,
   "id": "effca9b9-d2d1-4cf6-ba8e-480cfd3fd266",
   "metadata": {},
   "outputs": [],
   "source": [
    "for i in centers:\n",
    "    new_df  = df[df[\"CBCT Center Name\"] == i]\n",
    "    new_df.to_excel(f\"Doctor Drop List {i}.xlsx\")"
   ]
  },
  {
   "cell_type": "code",
   "execution_count": null,
   "id": "02d0eddb-a068-4039-8e6e-4e736e582cb2",
   "metadata": {},
   "outputs": [],
   "source": []
  }
 ],
 "metadata": {
  "kernelspec": {
   "display_name": "Python 3 (ipykernel)",
   "language": "python",
   "name": "python3"
  },
  "language_info": {
   "codemirror_mode": {
    "name": "ipython",
    "version": 3
   },
   "file_extension": ".py",
   "mimetype": "text/x-python",
   "name": "python",
   "nbconvert_exporter": "python",
   "pygments_lexer": "ipython3",
   "version": "3.12.4"
  }
 },
 "nbformat": 4,
 "nbformat_minor": 5
}
